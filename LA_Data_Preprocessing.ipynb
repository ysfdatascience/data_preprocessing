{
 "cells": [
  {
   "cell_type": "code",
   "execution_count": null,
   "id": "c2df203f-def0-4871-8735-b20eabbf5f78",
   "metadata": {},
   "outputs": [],
   "source": [
    "import pandas as pd\n",
    "import numpy as np\n",
    "import seaborn as sns\n",
    "from datetime import datetime\n",
    "from collections import Counter\n",
    "from scipy.stats import trim_mean\n",
    "import re\n",
    "import os"
   ]
  },
  {
   "cell_type": "code",
   "execution_count": null,
   "id": "d78f9394-b4ae-40f1-8bc3-330f88762510",
   "metadata": {},
   "outputs": [],
   "source": [
    "\"\"\"This dataset reflects incidents of crime in the City of Los Angeles dating back to 2020. This data is transcribed from original crime reports that are typed on paper and therefore there may be some inaccuracies within the data. Address fields are only provided to the nearest hundred block in order to maintain privacy.\"\"\"\n",
    "\n",
    "path = os.getenv(\"get_data\")\n",
    "data = pd.read_csv(filepath_or_buffer=rf\"{path}\\LA_Crime_Data\\Crime_Data_from_2020_to_Present.csv\")\n",
    "df = data.copy()\n",
    "df.head()"
   ]
  },
  {
   "cell_type": "markdown",
   "id": "28f7595d-d7ef-44ce-8588-c832afb47a3b",
   "metadata": {},
   "source": [
    "### data cleaning and manipulation\n",
    "\n",
    "#### Renaming of variables"
   ]
  },
  {
   "cell_type": "code",
   "execution_count": null,
   "id": "18729c9c-e9b9-4286-82d9-9311cc0e2eb5",
   "metadata": {},
   "outputs": [],
   "source": [
    "cols_list = df.columns.to_list()\n",
    "new_cols_list = [\"id\", \"reported\", \"occurred\", \"time\", \"area\", \"code\", \"age\", \"sex\", \"descent\", \"premises\", \"weapon\", \"status\", \"location\", \"latitude\", \"longitude\"]\n",
    "mapping = {k: v for k, v in zip(cols_list, new_cols_list)}\n",
    "df.rename(columns=mapping, inplace = True)\n",
    "df.head(1)"
   ]
  },
  {
   "cell_type": "markdown",
   "id": "8e2fad35-d522-49c9-9522-92266987c2b7",
   "metadata": {},
   "source": [
    "#### Date transformations"
   ]
  },
  {
   "cell_type": "code",
   "execution_count": null,
   "id": "fa7ebd60-4eb6-4c4f-8255-318862f65ec5",
   "metadata": {},
   "outputs": [],
   "source": [
    "dates_reported = [item[0] for item in map(lambda x: x.split(sep = \" \"), df[\"reported\"].to_list())]\n",
    "dates_occurred = [item[0] for item in map(lambda x: x.split(sep = \" \"), df[\"occurred\"].to_list())]\n",
    "\n",
    "new_dates_reported = []\n",
    "\n",
    "for item in dates_reported:\n",
    "    try:\n",
    "        obj = datetime.strptime(item, \"%m/%d/%y\")\n",
    "        new_dates_reported.append(obj.strftime(\"%d.%m.%Y\"))\n",
    "    except ValueError:\n",
    "        try:\n",
    "            obj = datetime.strptime(item, \"%m/%d/%Y\")\n",
    "            new_dates_reported.append(obj.strftime(\"%d.%m.%Y\"))\n",
    "        except ValueError:\n",
    "            print(f\"invalid_date: {item}\")\n",
    "\n",
    "new_dates_occurred = []\n",
    "\n",
    "for item in dates_occurred:\n",
    "    try:\n",
    "        obj = datetime.strptime(item, \"%m/%d/%y\")\n",
    "        new_dates_occurred.append(obj.strftime(\"%d.%m.%Y\"))\n",
    "    except ValueError:\n",
    "        try:\n",
    "            obj = datetime.strptime(item, \"%m/%d/%Y\")\n",
    "            new_dates_occurred.append(obj.strftime(\"%d.%m.%Y\"))\n",
    "        except ValueError:\n",
    "            print(f\"invalid_date: {item}\")\n",
    "\n",
    "\n",
    "df[\"reported\"] = new_dates_reported\n",
    "df[\"occurred\"] = new_dates_occurred\n",
    "df.head()"
   ]
  },
  {
   "cell_type": "markdown",
   "id": "81efe8ba-9ea6-4198-a714-165f79dae499",
   "metadata": {},
   "source": [
    "#### Correction of the time format"
   ]
  },
  {
   "cell_type": "code",
   "execution_count": null,
   "id": "b436ed2c-b942-478d-ba09-9024d5bdbf39",
   "metadata": {},
   "outputs": [],
   "source": [
    "new_times = []\n",
    "\n",
    "for item in df[\"time\"].to_list():\n",
    "    time = f\"{item:04d}\"\n",
    "    new_times.append(f\"{time[:2]}:{time[2:]}\")\n",
    "\n",
    "df[\"time\"] = new_times\n",
    "df.head(2)"
   ]
  },
  {
   "cell_type": "markdown",
   "id": "3c003fae-88f5-4602-9200-7a39e82160d7",
   "metadata": {},
   "source": [
    "#### Adding explanations of descent codes to the dataset."
   ]
  },
  {
   "cell_type": "code",
   "execution_count": null,
   "id": "512d24b8-9717-49af-8b1d-32974fca41c6",
   "metadata": {},
   "outputs": [],
   "source": [
    "\"\"\"It is assumed that the codes in the descent variable in the dataset are codes used in lineage, ethnic origin, or genetic ancestry research. These haplogroup codes are common among people with origins in those regions.\"\"\"\n",
    "\n",
    "ethnic_cultural_codes = {\n",
    "    'O': 'East Asia, Southeast Asia, Pacific Islands',\n",
    "    'X': 'Native Americans, isolated populations of Eurasia',\n",
    "    'H': 'Europe, particularly Western Europe',\n",
    "    'B': 'Asian and Native American, Pacific Islands, Polynesia',\n",
    "    'W': 'South Asia, Central Asia, some regions of Europe',\n",
    "    'A': 'Populations of African descent',\n",
    "    'K': 'Europe, Middle East, India, Central Asia',\n",
    "    'C': 'Asia, Australian Aborigines, Native Americans',\n",
    "    'J': 'Middle East, North Africa, Europe (Jewish communities)',\n",
    "    'F': 'A wide region of Asia, various populations',\n",
    "    'I': 'Europe, particularly Northern and Eastern Europe',\n",
    "    'V': 'Europe and Western Asia, particularly the Iberian Peninsula and Northern Europe',\n",
    "    'S': 'Pacific Islands, Papua New Guinea, Melanesia',\n",
    "    'P': 'Asian and Native American populations',\n",
    "    'Z': 'Northeast Asia, Siberia, East Asia',\n",
    "    'G': 'Caucasus, Central Asia, Europe',\n",
    "    'U': 'European, Asian, Middle Eastern populations',\n",
    "    'D': 'Asian and Native American, Northern Asia',\n",
    "    'L': 'Africa, particularly Sub-Saharan Africa',\n",
    "    '-': 'Missing or ambiguous information'\n",
    "}\n",
    "\n",
    "df[\"descent\"] = df[\"descent\"].str.strip()\n",
    "\n",
    "\n",
    "code_list = []\n",
    "for item in df[\"descent\"].to_list():\n",
    "    if item in ethnic_cultural_codes.keys():\n",
    "        code_list.append(ethnic_cultural_codes[item])\n",
    "    else:\n",
    "        code_list.append(\"other\")    \n",
    "\n",
    "df2 = df.copy()\n",
    "df2.insert(9, column = \"descent_info\", value = code_list)\n",
    "df2.head(3)"
   ]
  },
  {
   "cell_type": "markdown",
   "id": "e508c522-2736-4d4d-98f9-9f0d5aea1a8d",
   "metadata": {},
   "source": [
    "#### Generalization of crime codes into 9 main categories."
   ]
  },
  {
   "cell_type": "markdown",
   "id": "eaa6d397-aa22-4670-8fbf-7e1388c88243",
   "metadata": {},
   "source": [
    "The generalization process is carried out by matching a set of keywords corresponding to each main category with the code variable present in the dataset. The keywords have been selected from the most frequently occurring words in the code variable."
   ]
  },
  {
   "cell_type": "code",
   "execution_count": null,
   "id": "1ad15f92-6119-4a6b-9ea3-c908b2641db1",
   "metadata": {},
   "outputs": [],
   "source": [
    "crime_categories = {\n",
    "    \"Violent Crimes\": ['ASSAULT', 'BATTERY', 'HOMICIDE', 'KIDNAPPING', 'ROBBERY', 'LYNCHING', 'TRAFFICKING'],\n",
    "    \"Sexual Crimes\": ['SODOMY', 'ORAL COPULATION', 'SEX', 'LEWD', 'RAPE', 'INDECENT', 'PORNOGRAPHY', 'INCEST'],\n",
    "    \"Property Crimes\": ['THEFT', 'BURGLARY', 'SHOPLIFTING', 'EMBEZZLEMENT', 'VANDALISM', 'ARSON', 'STOLEN'],\n",
    "    \"Fraud and White-Collar Crimes\": ['FRAUD', 'FORGERY', 'COUNTERFEIT', 'BRIBERY', 'CONSPIRACY'],\n",
    "    \"Crimes Against Public Order\": ['DISTURBING', 'RIOT', 'TRESPASSING', 'DUMPING', 'DISRUPT'],\n",
    "    \"Crimes Against Family and Children\": ['CHILD', 'ABANDONMENT', 'ABUSE', 'NEGLECT', 'ANNOYING'],\n",
    "    \"Weapons and Dangerous Substances Crimes\": ['WEAPON', 'BOMB', 'FIREARMS', 'SHOTS', 'POSSESSION'],\n",
    "    \"Crimes Against Justice\": ['COURT', 'VIOLATION', 'CONTEMPT', 'FALSE', 'RESISTING'],\n",
    "    \"Other Crimes\": []  \n",
    "}\n",
    "\n",
    "crime_category_list = []\n",
    "\n",
    "for item in df2[\"code\"].to_list():\n",
    "    \n",
    "    match = False\n",
    "    for key, keywords in crime_categories.items():\n",
    "        for keyword in keywords:\n",
    "            if keyword in item:\n",
    "                crime_category_list.append(key)\n",
    "                match = True\n",
    "                break\n",
    "        if match:\n",
    "            break\n",
    "    if not match:\n",
    "        crime_category_list.append(\"Other Crimes\")\n",
    "        \n",
    "df2.insert(6, column = \"code_info\", value = crime_category_list)\n",
    "\n",
    "df2.head(3)"
   ]
  },
  {
   "cell_type": "markdown",
   "id": "3c4415ed-1b09-4a7c-b25b-a5d9df179847",
   "metadata": {},
   "source": [
    "#### Generalization of the codes in the \"gender\" variable"
   ]
  },
  {
   "cell_type": "code",
   "execution_count": null,
   "id": "f123315b-2fd8-4a36-b7f5-9ddb6afe0377",
   "metadata": {},
   "outputs": [],
   "source": [
    "df2[\"sex\"].value_counts(dropna = False, normalize = True)\n",
    "\n",
    "df2[\"sex\"] = df[\"sex\"].fillna(value = \"other\")\n",
    "df2[\"sex\"] = df2[\"sex\"].replace(to_replace=[\"X\", \"H\", \"-\"], value=\"other\")\n",
    "\n",
    "df2[\"sex\"].value_counts(dropna = False, normalize = True)"
   ]
  },
  {
   "cell_type": "markdown",
   "id": "c5d5c772-f0aa-4c25-8a9d-150a58cbf21d",
   "metadata": {},
   "source": [
    "#### Separation of the \"weapon\" variable into classes"
   ]
  },
  {
   "cell_type": "code",
   "execution_count": null,
   "id": "835b2e73-ffe3-4244-ac1b-4495f1d13ee8",
   "metadata": {},
   "outputs": [],
   "source": [
    "# Analysis of Repeated Words\n",
    "words = [item.split() for item in map(str, df[\"weapon\"].to_list())]\n",
    "word_list = [re.sub(r'[^a-zA-Z]', '', item) for sublist in words for item in sublist if not item == 'nan']\n",
    "c = Counter(word_list)\n",
    "\n",
    "# Generalization into 6 main categories.\n",
    "weapon_category = {\n",
    "    \"Firearms\": [\n",
    "        \"HAND GUN\",\n",
    "        \"UNKNOWN FIREARM\",\n",
    "        \"AIR PISTOL/REVOLVER/RIFLE/BB GUN\",\n",
    "        \"SEMI-AUTOMATIC PISTOL\",\n",
    "        \"OTHER FIREARM\",\n",
    "        \"REVOLVER\",\n",
    "        \"SHOTGUN\",\n",
    "        \"SEMI-AUTOMATIC RIFLE\",\n",
    "        \"ASSAULT WEAPON/UZI/AK47/ETC\",\n",
    "        \"HECKLER & KOCH 93 SEMIAUTOMATIC ASSAULT RIFLE\",\n",
    "        \"MAC-11 SEMIAUTOMATIC ASSAULT WEAPON\",\n",
    "        \"UZI SEMIAUTOMATIC ASSAULT RIFLE\",\n",
    "        \"MAC-10 SEMIAUTOMATIC ASSAULT WEAPON\",\n",
    "        \"HECKLER & KOCH 91 SEMIAUTOMATIC ASSAULT RIFLE\",\n",
    "        \"M1-1 SEMIAUTOMATIC ASSAULT RIFLE\"\n",
    "    ],\n",
    "    \"Cutting Weapons\": [\n",
    "        \"KNIFE WITH BLADE 6 INCHES OR LESS\",\n",
    "        \"KITCHEN KNIFE\",\n",
    "        \"MACHETE\",\n",
    "        \"OTHER KNIFE\",\n",
    "        \"FOLDING KNIFE\",\n",
    "        \"OTHER CUTTING INSTRUMENT\",\n",
    "        \"SWITCH BLADE\",\n",
    "        \"DIRK/DAGGER\",\n",
    "        \"BOWIE KNIFE\",\n",
    "        \"RAZOR\",\n",
    "        \"RAZOR BLADE\",\n",
    "        \"CLEAVER\",\n",
    "        \"STRAIGHT RAZOR\"\n",
    "    ],\n",
    "    \"Blunt Objects\": [\n",
    "        \"HAMMER\",\n",
    "        \"PIPE/METAL PIPE\",\n",
    "        \"ROCK/THROWN OBJECT\",\n",
    "        \"BRASS KNUCKLES\",\n",
    "        \"CLUB/BAT\",\n",
    "        \"BLUNT INSTRUMENT\",\n",
    "        \"BOARD\",\n",
    "        \"STUN GUN\",\n",
    "        \"ICE PICK\",\n",
    "        \"TIRE IRON\"\n",
    "    ],\n",
    "    \"Chemical and Other Hazardous Materials\": [\n",
    "        \"CAUSTIC CHEMICAL/POISON\",\n",
    "        \"SCALDING LIQUID\",\n",
    "        \"EXPLOSIVE DEVICE\",\n",
    "        \"BOMB THREAT\"\n",
    "    ],\n",
    "    \"Simulated Weapons\": [\n",
    "        \"SIMULATED GUN\",\n",
    "        \"TOY GUN\"\n",
    "    ],\n",
    "    \"Other\": [\n",
    "        \"nan\"\n",
    "        \"UNKNOWN WEAPON/OTHER WEAPON\",\n",
    "        \"UNKNOWN TYPE CUTTING INSTRUMENT\",\n",
    "        \"RELIC FIREARM\",\n",
    "        \"ANTIQUE FIREARM\",\n",
    "        \"MARTIAL ARTS WEAPONS\",\n",
    "        \"BOW AND ARROW\",\n",
    "        \"SYRINGE\",\n",
    "        \"FIXED OBJECT\",\n",
    "        \"ROPE/LIGATURE\",\n",
    "        \"DOG/ANIMAL (SIC ANIMAL ON)\",\n",
    "        \"DEMAND NOTE\",\n",
    "        \"LIQUOR/DRUGS\",\n",
    "        \"UNK TYPE SEMIAUTOMATIC ASSAULT RIFLE\"\n",
    "    ]\n",
    "}\n",
    "weapon_info = []\n",
    "\n",
    "for item in list(map(str, df2[\"weapon\"].to_list())):\n",
    "    \n",
    "    match = False\n",
    "    for key, keywords in weapon_category.items():\n",
    "        for keyword in keywords:\n",
    "            if keyword in item:\n",
    "                weapon_info.append(key)\n",
    "                match = True\n",
    "                break\n",
    "        if match:\n",
    "            break\n",
    "    if not match:\n",
    "        weapon_info.append(\"Not Classified\")\n",
    "df3 = df2.copy()\n",
    "df3.insert(13, column = \"weapon_info\", value = weapon_info)\n",
    "df3.head(5)"
   ]
  },
  {
   "cell_type": "markdown",
   "id": "b3642f8c-f49d-4032-a8ef-47b0f598679d",
   "metadata": {},
   "source": [
    "#### Transformation of the \"status\" variable"
   ]
  },
  {
   "cell_type": "code",
   "execution_count": null,
   "id": "5896cf08-ef15-4047-b78b-3a3757b71458",
   "metadata": {},
   "outputs": [],
   "source": [
    "df3[\"status\"].replace(\n",
    "    to_replace={\"Invest Cont\": \"Investigation Continued\", \n",
    "                \"Juv Arrest\": \"Juvenile Arrest\",\n",
    "                \"Juv Other\": \"Juvenile Other\",\n",
    "                \"UNK\": \"Unknown\"}, inplace=True)\n",
    "df3.head(3)\n",
    "\n",
    "df3[\"status\"].unique()"
   ]
  },
  {
   "cell_type": "markdown",
   "id": "642d5290-10ce-4322-be6a-7b16ab0cb02e",
   "metadata": {},
   "source": [
    "#### Transformation of the \"age\" variable."
   ]
  },
  {
   "cell_type": "markdown",
   "id": "643a40c3-c54e-4080-a13a-14bf33492081",
   "metadata": {},
   "source": [
    "The observations in the 'age' variable that have zero and negative values will be replaced with the mean. Due to outliers, the filling will be done using trimmed mean."
   ]
  },
  {
   "cell_type": "code",
   "execution_count": null,
   "id": "b2036086-b7b3-49bd-a3dd-20d5edf33c08",
   "metadata": {},
   "outputs": [],
   "source": [
    "\n",
    "df3[df3[\"age\"] <= 0][\"age\"].value_counts()\n",
    "\n",
    "df3[\"age\"] = df3[\"age\"].replace(to_replace=[df3[df3[\"age\"] <= 0][\"age\"].unique().tolist()], \n",
    "                   value = int(trim_mean(df3[\"age\"], proportiontocut= 0.10)),\n",
    "                    )\n",
    "\n",
    "df3[df3[\"age\"] <= 0][\"age\"].value_counts()\n",
    "\n",
    "sns.boxplot(data = df[\"age\"], orient = \"h\");\n",
    "\n",
    "df3.head(5)"
   ]
  },
  {
   "cell_type": "markdown",
   "id": "d4ef64f5-97de-4f07-b154-3fdc7e570c4d",
   "metadata": {},
   "source": [
    "#### export final data"
   ]
  },
  {
   "cell_type": "code",
   "execution_count": null,
   "id": "3afefa13-3219-4e31-9a8a-6295ace546dd",
   "metadata": {},
   "outputs": [],
   "source": [
    "df3.to_csv(path_or_buf=rf\"{path}\\LA_Crime_Data\\final_data.csv\", index=False)"
   ]
  },
  {
   "cell_type": "code",
   "execution_count": null,
   "id": "47e9300f-0239-475f-9e87-669547d7d11a",
   "metadata": {},
   "outputs": [],
   "source": []
  },
  {
   "cell_type": "code",
   "execution_count": null,
   "id": "3e26efc9-fb98-4d74-99fb-343c091d7f47",
   "metadata": {},
   "outputs": [],
   "source": []
  },
  {
   "cell_type": "code",
   "execution_count": null,
   "id": "f4cd3096-5d83-4d86-b916-8c4bfd67161c",
   "metadata": {},
   "outputs": [],
   "source": []
  },
  {
   "cell_type": "code",
   "execution_count": null,
   "id": "4337f593-a2b5-4b03-b579-6e397a39100d",
   "metadata": {},
   "outputs": [],
   "source": []
  },
  {
   "cell_type": "code",
   "execution_count": null,
   "id": "8bb5afd7-2418-44c7-9a3f-051e2e4a0523",
   "metadata": {},
   "outputs": [],
   "source": []
  },
  {
   "cell_type": "code",
   "execution_count": null,
   "id": "dca29f3a-702b-4c96-b8b1-19b12d46baaf",
   "metadata": {},
   "outputs": [],
   "source": []
  },
  {
   "cell_type": "code",
   "execution_count": null,
   "id": "92ba139a-0c21-4f6a-9750-514dc8836968",
   "metadata": {},
   "outputs": [],
   "source": []
  },
  {
   "cell_type": "code",
   "execution_count": null,
   "id": "9e94b796-d823-467e-883c-58ee7d7eda09",
   "metadata": {},
   "outputs": [],
   "source": []
  },
  {
   "cell_type": "code",
   "execution_count": null,
   "id": "64d08e52-0c77-4a9e-8cd1-dec65896f0e1",
   "metadata": {},
   "outputs": [],
   "source": []
  },
  {
   "cell_type": "code",
   "execution_count": null,
   "id": "e0df476b-f600-49e2-9609-9ffe08b9a2bd",
   "metadata": {},
   "outputs": [],
   "source": []
  },
  {
   "cell_type": "code",
   "execution_count": null,
   "id": "9d3cd58a-e1f9-4d14-ac4f-88eb8de85bdf",
   "metadata": {},
   "outputs": [],
   "source": []
  },
  {
   "cell_type": "code",
   "execution_count": null,
   "id": "4c7c73fd-3a47-494c-a5bf-6cb81377c640",
   "metadata": {},
   "outputs": [],
   "source": []
  },
  {
   "cell_type": "code",
   "execution_count": null,
   "id": "d888f8b9-22ef-4026-a285-c3cd5513e52f",
   "metadata": {},
   "outputs": [],
   "source": []
  },
  {
   "cell_type": "code",
   "execution_count": null,
   "id": "5b117094-efca-42cf-aea6-3042b64fdedd",
   "metadata": {},
   "outputs": [],
   "source": []
  },
  {
   "cell_type": "code",
   "execution_count": null,
   "id": "94972d14-63ad-4ef5-b375-79ce1ae0d44d",
   "metadata": {},
   "outputs": [],
   "source": []
  },
  {
   "cell_type": "code",
   "execution_count": null,
   "id": "ec0ea057-22f6-40ed-bc43-2681e1e1ff98",
   "metadata": {},
   "outputs": [],
   "source": []
  },
  {
   "cell_type": "code",
   "execution_count": null,
   "id": "8565c09d-5787-4da8-967e-07678afaf481",
   "metadata": {},
   "outputs": [],
   "source": []
  },
  {
   "cell_type": "code",
   "execution_count": null,
   "id": "689a1964-30f6-4063-acc2-15e9593d06ca",
   "metadata": {},
   "outputs": [],
   "source": []
  },
  {
   "cell_type": "code",
   "execution_count": null,
   "id": "476bb5c7-3e2a-4cae-907d-3b6a1527dfcf",
   "metadata": {},
   "outputs": [],
   "source": []
  },
  {
   "cell_type": "code",
   "execution_count": null,
   "id": "d0f2a987-c8cd-4518-9016-9a8de365b851",
   "metadata": {},
   "outputs": [],
   "source": []
  },
  {
   "cell_type": "code",
   "execution_count": null,
   "id": "998a43bc-032e-4f2e-8d9a-cb4f156bb126",
   "metadata": {},
   "outputs": [],
   "source": []
  },
  {
   "cell_type": "code",
   "execution_count": null,
   "id": "d575dda7-dcff-4c14-a922-c5809ccc42f8",
   "metadata": {},
   "outputs": [],
   "source": []
  },
  {
   "cell_type": "code",
   "execution_count": null,
   "id": "7284ba1e-3619-4a39-b44d-0b993a1ddbd9",
   "metadata": {},
   "outputs": [],
   "source": []
  },
  {
   "cell_type": "code",
   "execution_count": null,
   "id": "8a5a914e-6525-4e20-9ce3-7991c515fba0",
   "metadata": {},
   "outputs": [],
   "source": []
  }
 ],
 "metadata": {
  "kernelspec": {
   "display_name": "Python 3 (ipykernel)",
   "language": "python",
   "name": "python3"
  },
  "language_info": {
   "codemirror_mode": {
    "name": "ipython",
    "version": 3
   },
   "file_extension": ".py",
   "mimetype": "text/x-python",
   "name": "python",
   "nbconvert_exporter": "python",
   "pygments_lexer": "ipython3",
   "version": "3.12.4"
  }
 },
 "nbformat": 4,
 "nbformat_minor": 5
}
